{
 "cells": [
  {
   "cell_type": "code",
   "execution_count": null,
   "id": "3efe7105-c596-466d-8577-e3ab8fb0a3b6",
   "metadata": {},
   "outputs": [],
   "source": [
    "import numpy as np\n",
    "import pandas as pd\n",
    "from matplotlib import pyplot as plt\n",
    "import seaborn as sns"
   ]
  },
  {
   "cell_type": "code",
   "execution_count": null,
   "id": "7a378ada-26a4-4c3a-acce-5f8fc1bb8e19",
   "metadata": {},
   "outputs": [],
   "source": [
    "raw_data = pd.read_csv(\"data/train.csv\")\n",
    "print(raw_data.info())"
   ]
  },
  {
   "cell_type": "markdown",
   "id": "96da4aa7-c210-42ec-95b6-25cdca7bde55",
   "metadata": {},
   "source": [
    "Filter only some relevant features"
   ]
  },
  {
   "cell_type": "code",
   "execution_count": null,
   "id": "3d2ba4b6-e489-4d96-870f-69ebd80a2f6a",
   "metadata": {},
   "outputs": [],
   "source": [
    "selected_features = [\"LotArea\", \"YearBuilt\", \"YearRemodAdd\", \"YrSold\", \"BedroomAbvGr\", \"SalePrice\"]\n",
    "selected_features=raw_data.columns.to_list()\n",
    "data = raw_data[selected_features].copy()\n",
    "selected_features.remove(\"SalePrice\")\n",
    "print(data.info())\n",
    "print(data.describe())"
   ]
  },
  {
   "cell_type": "code",
   "execution_count": null,
   "id": "0401eea5-f951-47c1-8cb9-204711f2e2b8",
   "metadata": {},
   "outputs": [],
   "source": [
    "print(data.isna().sum())\n",
    "print(data.isnull().sum())"
   ]
  },
  {
   "cell_type": "code",
   "execution_count": null,
   "id": "a3e74c09",
   "metadata": {},
   "outputs": [],
   "source": [
    "from sklearn.preprocessing import OrdinalEncoder\n",
    "encoder = OrdinalEncoder()\n",
    "\n",
    "edges = [0, 1970, 1990, 2000, 2050]\n",
    "labels = [\"a\", \"b\", \"c\", \"d\"]\n",
    "data[\"YearRemodAdd\"] = pd.cut(data['YearRemodAdd'], edges, labels=labels)\n",
    "\n",
    "edges = [0, 1900, 1950, 1980, 2000, 2010, 2050]\n",
    "labels = [\"a\", \"b\", \"c\", \"d\", \"e\", \"f\"]\n",
    "data[\"YearBuilt\"] = pd.cut(data['YearBuilt'], edges, labels=labels)\n",
    "\n",
    "edges = [0., 1.1, 2.1, 3.1, 4.1, 10.]\n",
    "labels = [\"a\", \"b\", \"c\", \"d\", \"e\"]\n",
    "data[\"BedroomAbvGr\"] = pd.cut(data['BedroomAbvGr'], edges, labels=labels)\n",
    "\n",
    "#data['PoolArea'] = data['PoolArea'].isin([0]).astype(int)\n",
    "'''data[\"OpenPorchSF\"] = np.log(1 + data[\"OpenPorchSF\"])\n",
    "data[\"EnclosedPorch\"] = np.log(1 + data[\"EnclosedPorch\"])\n",
    "data[\"3SsnPorch\"] = np.log(1 + data[\"3SsnPorch\"])\n",
    "data[\"ScreenPorch\"] = np.log(1 + data[\"ScreenPorch\"])'''\n",
    "#data[\"LotFrontage\"] = np.log(1 + data[\"LotFrontage\"])"
   ]
  },
  {
   "cell_type": "code",
   "execution_count": null,
   "id": "201934cd",
   "metadata": {},
   "outputs": [],
   "source": [
    "import seaborn as sns\n",
    "import matplotlib.pyplot as plt\n",
    "\n",
    "# Supponiamo di avere un DataFrame chiamato 'df'\n",
    "# df = pd.read_csv('tuo_dataset.csv')\n",
    "\n",
    "# Calcolare la matrice di correlazione\n",
    "corr_matrix = data[data.select_dtypes(include=[np.number]).columns].corr()\n",
    "\n",
    "# Creare il grafico della matrice di correlazione con seaborn\n",
    "plt.figure(figsize=(10, 8))  # Puoi modificare la dimensione in base alle tue esigenze\n",
    "sns.heatmap(corr_matrix, cmap='coolwarm', fmt='.2f', linewidths=0.5)\n",
    "\n",
    "# Aggiungere un titolo\n",
    "plt.title('Matrice di Correlazione')\n",
    "\n",
    "# Mostrare il grafico\n",
    "plt.show()"
   ]
  },
  {
   "cell_type": "code",
   "execution_count": null,
   "id": "2f13914e",
   "metadata": {},
   "outputs": [],
   "source": [
    "for f in data.columns:\n",
    "    print(f)\n",
    "    print(data[f].value_counts())\n",
    "    try:\n",
    "        plt.hist(data[f])\n",
    "        plt.title(f)\n",
    "        plt.show()\n",
    "    except:\n",
    "        pass\n"
   ]
  },
  {
   "cell_type": "code",
   "execution_count": null,
   "id": "1a036f7b",
   "metadata": {},
   "outputs": [],
   "source": [
    "data[\"SalePrice\"] = np.log(data[\"SalePrice\"])\n",
    "\n",
    "plt.hist(data[\"SalePrice\"])\n",
    "plt.show()"
   ]
  },
  {
   "cell_type": "code",
   "execution_count": null,
   "id": "36710754-813e-45de-8207-3446efc6bd7f",
   "metadata": {},
   "outputs": [],
   "source": [
    "from sklearn.pipeline import Pipeline\n",
    "from sklearn.preprocessing import OneHotEncoder, StandardScaler, MinMaxScaler, FunctionTransformer\n",
    "from sklearn.impute import SimpleImputer\n",
    "from scipy.stats import mode\n",
    "\n",
    "# imputation pipelines\n",
    "log_pipeline = Pipeline(steps=[\n",
    "    ('imputer', SimpleImputer(strategy='mean')),\n",
    "    ('log', FunctionTransformer(np.log, feature_names_out='one-to-one')),\n",
    "    ('std', StandardScaler())\n",
    "])\n",
    "num_pipeline = Pipeline(steps=[\n",
    "    ('imputer', SimpleImputer(strategy='mean')),\n",
    "    ('std', StandardScaler())\n",
    "])\n",
    "obj_pipeline = Pipeline(steps=[\n",
    "    ('imputer', SimpleImputer(strategy='most_frequent')),\n",
    "    ('onehot', OneHotEncoder())\n",
    "])\n",
    "\n",
    "def binarizer(X):\n",
    "    most_frequent = pd.Series(X.ravel()).mode()[0]  # Trova il valore più frequente\n",
    "    return np.where(X == most_frequent, 1, 0).reshape(-1, X.shape[1])\n",
    "    \n",
    "binary_pipeline = Pipeline(steps=[\n",
    "    ('imputer', SimpleImputer(strategy='most_frequent')),\n",
    "    ('binary', FunctionTransformer(binarizer, feature_names_out='one-to-one')),\n",
    "    ('onehot', OneHotEncoder())\n",
    "])"
   ]
  },
  {
   "cell_type": "code",
   "execution_count": null,
   "id": "60356d5d",
   "metadata": {},
   "outputs": [],
   "source": [
    "std_cols = [\"LotArea\"]\n",
    "category_cols = [\"YearBuilt\", \"MiscVal\"]\n",
    "\n",
    "minmax_cols = data.select_dtypes(include=np.number).columns.drop(\"SalePrice\")\n",
    "category_cols = data.select_dtypes(include=object).columns"
   ]
  },
  {
   "cell_type": "code",
   "execution_count": null,
   "id": "9f972ca4-1704-400b-8a01-4edfac9cb633",
   "metadata": {},
   "outputs": [],
   "source": [
    "from sklearn.compose import ColumnTransformer\n",
    "\n",
    "y_train = data['SalePrice'].astype(dtype=float)\n",
    "data = data.drop('SalePrice', axis=1)\n",
    "\n",
    "# Remove target variable from categorical columns\n",
    "binary_columns = ['PoolArea', 'RoofMatl']\n",
    "obj_columns = data.select_dtypes(exclude=[int, float]).columns.drop(binary_columns, errors='ignore')\n",
    "log_columns = [\"LotArea\", \"GrLivArea\", \"LotFrontage\"]\n",
    "\n",
    "# Combine transformers using ColumnTransformer\n",
    "preprocessing = ColumnTransformer(\n",
    "    transformers=[\n",
    "        ('obj', obj_pipeline, obj_columns),\n",
    "        ('log', log_pipeline, log_columns),\n",
    "        ('bin', binary_pipeline, binary_columns)\n",
    "    ], remainder=num_pipeline\n",
    ")\n",
    "\n",
    "# Create a pipeline with the preprocessor\n",
    "pipeline = Pipeline(steps=[\n",
    "    ('preprocessing', preprocessing)\n",
    "])\n",
    "\n",
    "\n",
    "X_train = pipeline.fit_transform(data)"
   ]
  },
  {
   "cell_type": "code",
   "execution_count": null,
   "id": "2a4eb3dc-5534-4540-8652-8a51d477bff3",
   "metadata": {},
   "outputs": [],
   "source": [
    "plt.hist(y_train)"
   ]
  },
  {
   "cell_type": "code",
   "execution_count": null,
   "id": "0dac7e52-5047-44a6-a76c-ac2fa1ee9c7c",
   "metadata": {},
   "outputs": [],
   "source": [
    "from sklearn.svm import SVR as SVR\n",
    "from sklearn.linear_model import Ridge\n",
    "from sklearn.ensemble import RandomForestRegressor\n",
    "from sklearn.kernel_ridge import KernelRidge\n",
    "models = {\n",
    "    'SVM': SVR(),\n",
    "    'KRidge': KernelRidge(),\n",
    "    'Ridge' : Ridge(random_state=10, max_iter=50000)\n",
    "}\n",
    "\n",
    "# Define the hyperparameter grids for each model\n",
    "param_grids = {\n",
    "    'SVM': {\n",
    "        'kernel' : ['linear', 'poly', 'sigmoid'],\n",
    "        'degree' : [2, 3, 4]\n",
    "    },\n",
    "    'Ridge' : {\n",
    "        'alpha' : [8.0, 9.0, 10.0, 11.0],\n",
    "        'solver' : ['auto', 'lsqr', 'sag']\n",
    "    },\n",
    "    'KRidge' : {\n",
    "        'alpha' : [0.1, 0.2, 0.3, 0.4],\n",
    "        'gamma' : [None],\n",
    "        'kernel' : [\"linear\", \"poly\", \"polynomial\"],\n",
    "        'degree' : [1, 2, 3]\n",
    "    }\n",
    "}"
   ]
  },
  {
   "cell_type": "code",
   "execution_count": null,
   "id": "47b7774f-4071-44da-93d8-beaf32e8991f",
   "metadata": {},
   "outputs": [],
   "source": [
    "# Train and tune the models\n",
    "from sklearn.model_selection import GridSearchCV\n",
    "\n",
    "grids = {}\n",
    "for model_name, model in models.items():\n",
    "    print(f'Training and tuning {model_name}...')\n",
    "    grids[model_name] = GridSearchCV(estimator=model, param_grid=param_grids[model_name], scoring='neg_root_mean_squared_error', n_jobs=-1, verbose=1)\n",
    "    grids[model_name].fit(X_train, y_train.values.ravel())\n",
    "    best_params = grids[model_name].best_params_\n",
    "    best_score = grids[model_name].best_score_\n",
    "    \n",
    "    print(f'Best parameters for {model_name}: {best_params}')\n",
    "    print(f'Best accuracy for {model_name}: {-best_score}\\n')"
   ]
  },
  {
   "cell_type": "code",
   "execution_count": null,
   "id": "15187ed7",
   "metadata": {},
   "outputs": [],
   "source": [
    "# Estrai i valori di alpha e i punteggi della Ridge Regression\n",
    "ridge_alphas = grids['KRidge'].cv_results_['param_alpha'].data  # Lista di alpha testati\n",
    "ridge_scores = -grids['KRidge'].cv_results_['mean_test_score']  # Negativo perché usa RMSE (errore → positivo)\n",
    "\n",
    "# Ordina per alpha\n",
    "sorted_indices = np.argsort(ridge_alphas)\n",
    "\n",
    "ridge_alphas = np.array(ridge_alphas)[sorted_indices]\n",
    "ridge_scores = np.array(ridge_scores)[sorted_indices]\n",
    "\n",
    "# Plot\n",
    "plt.figure(figsize=(8, 5))\n",
    "plt.plot(ridge_alphas, ridge_scores, marker='o', linestyle='-')\n",
    "plt.xscale('log')  # Se gli alpha sono su più ordini di grandezza\n",
    "plt.xlabel('Alpha')\n",
    "plt.ylabel('RMSE')\n",
    "plt.title('KRidge Regression RMSE')\n",
    "plt.grid(True)\n",
    "plt.show()"
   ]
  },
  {
   "cell_type": "code",
   "execution_count": null,
   "id": "9a05d9fa-bc56-48d4-b643-25a98b987692",
   "metadata": {},
   "outputs": [],
   "source": [
    "test_raw_data = pd.read_csv(\"data/test.csv\")\n",
    "test_data = test_raw_data[selected_features].copy()\n",
    "\n",
    "edges = [0, 1970, 1990, 2000, 2050]\n",
    "labels = [\"a\", \"b\", \"c\", \"d\"]\n",
    "test_data[\"YearRemodAdd\"] = pd.cut(test_data['YearRemodAdd'], edges, labels=labels)\n",
    "\n",
    "edges = [0, 1900, 1950, 1980, 2000, 2010, 2050]\n",
    "labels = [\"a\", \"b\", \"c\", \"d\", \"e\", \"f\"]\n",
    "test_data[\"YearBuilt\"] = pd.cut(test_data['YearBuilt'], edges, labels=labels)\n",
    "\n",
    "edges = [0., 1.1, 2.1, 3.1, 4.1, 10.]\n",
    "labels = [\"a\", \"b\", \"c\", \"d\", \"e\"]\n",
    "test_data[\"BedroomAbvGr\"] = pd.cut(test_data['BedroomAbvGr'], edges, labels=labels)\n",
    "\n",
    "test_data['PoolArea'] = test_data['PoolArea'].isin([0]).astype(int)\n",
    "\n",
    "\n",
    "X_test = pipeline.transform(test_data)"
   ]
  },
  {
   "cell_type": "code",
   "execution_count": null,
   "id": "a8829a66-6403-4ddd-aabc-e5baf5b0ae77",
   "metadata": {},
   "outputs": [],
   "source": [
    "import csv\n",
    "\n",
    "pred = grids['KRidge'].predict(X_test)"
   ]
  },
  {
   "cell_type": "code",
   "execution_count": null,
   "id": "4ac855e3-de8d-4cd3-9944-caa3ee9198aa",
   "metadata": {},
   "outputs": [],
   "source": [
    "f = open(\"out.csv\", \"w\")\n",
    "f.write(\"Id,SalePrice\")\n",
    "for i in range(len(pred)):\n",
    "    f.write(\"\\n\")\n",
    "    f.write(str(i+1461) + \",\" + str(np.exp(pred[i])))\n",
    "f.close()"
   ]
  }
 ],
 "metadata": {
  "kernelspec": {
   "display_name": "base",
   "language": "python",
   "name": "python3"
  },
  "language_info": {
   "codemirror_mode": {
    "name": "ipython",
    "version": 3
   },
   "file_extension": ".py",
   "mimetype": "text/x-python",
   "name": "python",
   "nbconvert_exporter": "python",
   "pygments_lexer": "ipython3",
   "version": "3.12.7"
  }
 },
 "nbformat": 4,
 "nbformat_minor": 5
}
